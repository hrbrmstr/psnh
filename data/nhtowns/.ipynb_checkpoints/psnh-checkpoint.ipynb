{
 "metadata": {
  "name": "",
  "signature": "sha256:28feb6cf0699c971bc7afd6b6e4870d6f0f42f2e6865da49bf96b3813bb80dbc"
 },
 "nbformat": 3,
 "nbformat_minor": 0,
 "worksheets": []
}